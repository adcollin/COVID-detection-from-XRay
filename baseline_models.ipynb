{
 "cells": [
  {
   "cell_type": "markdown",
   "metadata": {},
   "source": [
    "## 1. load data"
   ]
  },
  {
   "cell_type": "code",
   "execution_count": 2,
   "metadata": {},
   "outputs": [
    {
     "name": "stderr",
     "output_type": "stream",
     "text": [
      "/Users/xinyuchen/opt/anaconda3/lib/python3.9/site-packages/scipy/__init__.py:146: UserWarning: A NumPy version >=1.16.5 and <1.23.0 is required for this version of SciPy (detected version 1.26.4\n",
      "  warnings.warn(f\"A NumPy version >={np_minversion} and <{np_maxversion}\"\n"
     ]
    }
   ],
   "source": [
    "import os\n",
    "import pandas as pd\n",
    "import matplotlib.pyplot as plt \n",
    "import numpy as np\n",
    "import seaborn as sns"
   ]
  },
  {
   "cell_type": "code",
   "execution_count": 12,
   "metadata": {},
   "outputs": [
    {
     "data": {
      "text/plain": [
       "'\"Users/xinyuchen/Desktop/Fall2023 &Spr24/Spring 2024/CS 109B/CS 109B project proposals/COVID-detection-from-XRa\"'"
      ]
     },
     "execution_count": 12,
     "metadata": {},
     "output_type": "execute_result"
    }
   ],
   "source": [
    "notebook_dir = os.path.dirname(os.path.realpath('baseline_models.ipynb'))\n",
    "'\"' + notebook_dir[1:-1] + '\"'"
   ]
  },
  {
   "cell_type": "code",
   "execution_count": 34,
   "metadata": {},
   "outputs": [
    {
     "data": {
      "text/plain": [
       "'\\nco_path_1 = \\'/\\' + os.path.join(root,\"Data/COVIDGR_1.0/COVID Positive Array 224.npy\")\\nco_path_2 = \\'/\\' + os.path.join(root,\"Data/COVIDGR_1.0/COVID Negative Array 224.npy\")\\ndf_covidgr_pos = np.load(co_path_1)\\ndf_covidgr_neg = np.load(co_path_2)'"
      ]
     },
     "execution_count": 34,
     "metadata": {},
     "output_type": "execute_result"
    }
   ],
   "source": [
    "root = str(os.path.dirname(os.path.realpath('baseline_models.ipynb')))\n",
    "root = root[1:] + '/'\n",
    "\n",
    "br_path = '/' +os.path.join(root, \"Data/Brixia/Brixia images size 224 arrays.npy\")\n",
    "df_brixia = np.load(br_path)\n",
    "\n",
    "nih_path = '/' + os.path.join(root,\"Data/NIHCXR/image1/NIHCXR images size 224 arrays.npy\")\n",
    "df_nihcxr = np.load(nih_path)\n",
    "\"\"\"\n",
    "co_path_1 = '/' + os.path.join(root,\"Data/COVIDGR_1.0/COVID Positive Array 224.npy\")\n",
    "co_path_2 = '/' + os.path.join(root,\"Data/COVIDGR_1.0/COVID Negative Array 224.npy\")\n",
    "df_covidgr_pos = np.load(co_path_1)\n",
    "df_covidgr_neg = np.load(co_path_2)\"\"\""
   ]
  },
  {
   "cell_type": "markdown",
   "metadata": {},
   "source": [
    "## 2. Baseline model - CNN"
   ]
  },
  {
   "cell_type": "code",
   "execution_count": null,
   "metadata": {},
   "outputs": [],
   "source": [
    "#We plan to try various filter sizes of the dense layers, \n",
    "#different optimizers (Adam/RMSprop), \n",
    "#different learning rates, batch sizes, and numbers of epoch. \n",
    "#We will also employ early stopping to prevent the model from overfitting. \n",
    "#Finally, we will report the accuracies and the AUROC of the testing data.\n"
   ]
  }
 ],
 "metadata": {
  "kernelspec": {
   "display_name": "base",
   "language": "python",
   "name": "python3"
  },
  "language_info": {
   "codemirror_mode": {
    "name": "ipython",
    "version": 3
   },
   "file_extension": ".py",
   "mimetype": "text/x-python",
   "name": "python",
   "nbconvert_exporter": "python",
   "pygments_lexer": "ipython3",
   "version": "3.9.12"
  }
 },
 "nbformat": 4,
 "nbformat_minor": 2
}
